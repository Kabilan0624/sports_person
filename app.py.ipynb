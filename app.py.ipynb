{
 "cells": [
  {
   "cell_type": "code",
   "execution_count": 4,
   "id": "9409e97a",
   "metadata": {},
   "outputs": [
    {
     "name": "stderr",
     "output_type": "stream",
     "text": [
      "2023-07-27 21:43:43.219 \n",
      "  \u001b[33m\u001b[1mWarning:\u001b[0m to view this Streamlit app on a browser, run it with the following\n",
      "  command:\n",
      "\n",
      "    streamlit run C:\\Users\\Kabi\\anaconda3\\lib\\site-packages\\ipykernel_launcher.py [ARGUMENTS]\n"
     ]
    }
   ],
   "source": [
    "\n",
    "import streamlit as st\n",
    "from PIL import Image\n",
    "import pickle\n",
    "import numpy as np\n",
    "\n",
    "# Load the trained model from the pickle file\n",
    "with open('class_dictionary.pkl', 'rb') as file:\n",
    "    model = pickle.load(file)\n",
    "\n",
    "# Define the classes (labels) of your image classification model\n",
    "# Replace these with the actual class names of your model\n",
    "class_names = ['lionel_messi', 'maria_sharapova', 'roger_federer', 'serena_williams','virat_kohli']\n",
    "\n",
    "# Function to preprocess the uploaded image\n",
    "def preprocess_image(image):\n",
    "    image = image.convert('RGB') # Ensure image is in RGB format\n",
    "    image = image.resize((224, 224)) # Resize the image to match the model's input size\n",
    "    image_array = np.array(image) # Convert image to a NumPy array\n",
    "    image_array = image_array / 255.0 # Normalize the image (if needed)\n",
    "    image_array = np.expand_dims(image_array, axis=0) # Add a batch dimension\n",
    "    return image_array\n",
    "\n",
    "# Streamlit app code\n",
    "def main():\n",
    "    st.title(\"Image Classification App\")\n",
    "    st.write(\"Upload an image and get a prediction!\")\n",
    "\n",
    "    # File uploader to get the image from the user\n",
    "    uploaded_file = st.file_uploader(\"Choose an image...\", type=[\"jpg\", \"png\", \"jpeg\"])\n",
    "\n",
    "    if uploaded_file is not None:\n",
    "        # Display the uploaded image\n",
    "        image = Image.open(uploaded_file)\n",
    "        st.image(image, caption='Uploaded Image', use_column_width=True)\n",
    "\n",
    "        # Preprocess the image\n",
    "        image_array = preprocess_image(image)\n",
    "\n",
    "        # Make predictions\n",
    "        prediction = model.predict(image_array)\n",
    "\n",
    "        # Get the predicted class index\n",
    "        predicted_class_index = np.argmax(prediction)\n",
    "\n",
    "        # Get the predicted class name\n",
    "        predicted_class = class_names[predicted_class_index]\n",
    "\n",
    "        # Display the prediction\n",
    "        st.write(f\"Prediction: {predicted_class} (Class {predicted_class_index})\")\n",
    "\n",
    "# Run the app\n",
    "if __name__ == \"__main__\":\n",
    "    main()\n"
   ]
  },
  {
   "cell_type": "code",
   "execution_count": null,
   "id": "c40ca3ff",
   "metadata": {},
   "outputs": [],
   "source": [
    "\n",
    "\n"
   ]
  },
  {
   "cell_type": "code",
   "execution_count": null,
   "id": "d493a7d0",
   "metadata": {},
   "outputs": [],
   "source": []
  }
 ],
 "metadata": {
  "kernelspec": {
   "display_name": "Python 3 (ipykernel)",
   "language": "python",
   "name": "python3"
  },
  "language_info": {
   "codemirror_mode": {
    "name": "ipython",
    "version": 3
   },
   "file_extension": ".py",
   "mimetype": "text/x-python",
   "name": "python",
   "nbconvert_exporter": "python",
   "pygments_lexer": "ipython3",
   "version": "3.10.9"
  }
 },
 "nbformat": 4,
 "nbformat_minor": 5
}
